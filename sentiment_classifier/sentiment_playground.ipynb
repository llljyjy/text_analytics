{
 "cells": [
  {
   "cell_type": "markdown",
   "metadata": {},
   "source": [
    "Model Playground"
   ]
  },
  {
   "cell_type": "code",
   "execution_count": 20,
   "metadata": {},
   "outputs": [],
   "source": [
    "# Load the saved model\n",
    "import pickle\n",
    "from sklearn.feature_extraction.text import CountVectorizer"
   ]
  },
  {
   "cell_type": "code",
   "execution_count": 30,
   "metadata": {},
   "outputs": [],
   "source": [
    "# Load the pipeline from the file\n",
    "with open('results/cus_sw_nb_classifier.pkl', 'rb') as f:\n",
    "    cus_pipeline = pickle.load(f)\n",
    "\n",
    "with open('results/us_nb_classifier.pkl', 'rb') as f:\n",
    "    us_pipeline = pickle.load(f)"
   ]
  },
  {
   "cell_type": "code",
   "execution_count": 47,
   "metadata": {},
   "outputs": [],
   "source": [
    "import pandas as pd\n",
    "\n",
    "def weighted_prediction(input_data, input_type='string', column_name='review'):\n",
    "    # Mapping from numerical labels to string labels\n",
    "    mapping = {0: \"negative\", 1: \"positive\"}\n",
    "\n",
    "    # Check the type of input\n",
    "    if input_type == 'string':\n",
    "        texts = [input_data]\n",
    "    elif input_type == 'csv':\n",
    "        df = pd.read_csv(input_data)\n",
    "        texts = df[column_name].tolist()\n",
    "    elif input_type == 'dataframe':\n",
    "        texts = input_data[column_name].tolist()\n",
    "    else:\n",
    "        raise ValueError(f\"Unknown input_type: {input_type}\")\n",
    "\n",
    "    # Get predicted probabilities for each class from each model\n",
    "    proba1 = cus_pipeline.predict_proba(texts)\n",
    "    proba2 = us_pipeline.predict_proba(texts)\n",
    "\n",
    "    # Compute weighted probabilities\n",
    "    weighted_proba = 0.6 * proba1 + 0.4 * proba2\n",
    "\n",
    "    # Predictions based on the weighted probabilities\n",
    "    prediction_indices = weighted_proba.argmax(axis=1)\n",
    "    \n",
    "    # Convert numerical predictions to string labels\n",
    "    string_predictions = [mapping[pred] for pred in prediction_indices]\n",
    "\n",
    "    # If the input was a CSV or DataFrame, add the predictions to the DataFrame\n",
    "    if input_type in ['csv', 'dataframe']:\n",
    "        if input_type == 'csv':\n",
    "            df['predictions'] = string_predictions\n",
    "            df.to_csv('output_with_predictions.csv', index=False)\n",
    "        else: # input_type is dataframe\n",
    "            input_data['predictions'] = string_predictions\n",
    "            return input_data\n",
    "\n",
    "    return string_predictions\n"
   ]
  },
  {
   "cell_type": "code",
   "execution_count": 57,
   "metadata": {},
   "outputs": [
    {
     "name": "stdout",
     "output_type": "stream",
     "text": [
      "positive\n"
     ]
    }
   ],
   "source": [
    "# print with \n",
    "prediction = weighted_prediction(\"this is a great product\")\n",
    "print(prediction[0])\n"
   ]
  },
  {
   "cell_type": "code",
   "execution_count": 50,
   "metadata": {},
   "outputs": [
    {
     "data": {
      "text/html": [
       "<div>\n",
       "<style scoped>\n",
       "    .dataframe tbody tr th:only-of-type {\n",
       "        vertical-align: middle;\n",
       "    }\n",
       "\n",
       "    .dataframe tbody tr th {\n",
       "        vertical-align: top;\n",
       "    }\n",
       "\n",
       "    .dataframe thead th {\n",
       "        text-align: right;\n",
       "    }\n",
       "</style>\n",
       "<table border=\"1\" class=\"dataframe\">\n",
       "  <thead>\n",
       "    <tr style=\"text-align: right;\">\n",
       "      <th></th>\n",
       "      <th>review</th>\n",
       "    </tr>\n",
       "  </thead>\n",
       "  <tbody>\n",
       "    <tr>\n",
       "      <th>0</th>\n",
       "      <td>worst produt is waste of money</td>\n",
       "    </tr>\n",
       "    <tr>\n",
       "      <th>1</th>\n",
       "      <td>good deal , nice product</td>\n",
       "    </tr>\n",
       "    <tr>\n",
       "      <th>2</th>\n",
       "      <td>make my skin smooth</td>\n",
       "    </tr>\n",
       "    <tr>\n",
       "      <th>3</th>\n",
       "      <td>long lasting fragrance</td>\n",
       "    </tr>\n",
       "    <tr>\n",
       "      <th>4</th>\n",
       "      <td>quick delivery thank you</td>\n",
       "    </tr>\n",
       "    <tr>\n",
       "      <th>5</th>\n",
       "      <td>rude delivery agent, not staified with the exp...</td>\n",
       "    </tr>\n",
       "  </tbody>\n",
       "</table>\n",
       "</div>"
      ],
      "text/plain": [
       "                                              review\n",
       "0                     worst produt is waste of money\n",
       "1                           good deal , nice product\n",
       "2                                make my skin smooth\n",
       "3                             long lasting fragrance\n",
       "4                          quick delivery thank you \n",
       "5  rude delivery agent, not staified with the exp..."
      ]
     },
     "execution_count": 50,
     "metadata": {},
     "output_type": "execute_result"
    }
   ],
   "source": [
    "df = pd.read_csv('data/test.csv')\n",
    "df"
   ]
  },
  {
   "cell_type": "code",
   "execution_count": 59,
   "metadata": {},
   "outputs": [
    {
     "name": "stdout",
     "output_type": "stream",
     "text": [
      "                                              review predictions\n",
      "0                     worst produt is waste of money    negative\n",
      "1                           good deal , nice product    positive\n",
      "2                                make my skin smooth    positive\n",
      "3                             long lasting fragrance    positive\n",
      "4                          quick delivery thank you     positive\n",
      "5  rude delivery agent, not staified with the exp...    negative\n"
     ]
    }
   ],
   "source": [
    "# predict with dataframe\n",
    "result_df = weighted_prediction(df, input_type='dataframe')\n",
    "print(result_df)"
   ]
  },
  {
   "cell_type": "code",
   "execution_count": 55,
   "metadata": {},
   "outputs": [
    {
     "name": "stdout",
     "output_type": "stream",
     "text": [
      "['negative', 'positive', 'positive', 'positive', 'positive', 'negative']\n"
     ]
    }
   ],
   "source": [
    "# predict with csv\n",
    "print(weighted_prediction(\"data/test.csv\", input_type='csv'))"
   ]
  },
  {
   "cell_type": "code",
   "execution_count": null,
   "metadata": {},
   "outputs": [],
   "source": []
  }
 ],
 "metadata": {
  "kernelspec": {
   "display_name": "text",
   "language": "python",
   "name": "python3"
  },
  "language_info": {
   "codemirror_mode": {
    "name": "ipython",
    "version": 3
   },
   "file_extension": ".py",
   "mimetype": "text/x-python",
   "name": "python",
   "nbconvert_exporter": "python",
   "pygments_lexer": "ipython3",
   "version": "3.9.18"
  }
 },
 "nbformat": 4,
 "nbformat_minor": 2
}
