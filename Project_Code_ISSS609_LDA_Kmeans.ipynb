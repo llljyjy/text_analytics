{
 "cells": [
  {
   "cell_type": "code",
   "execution_count": 1,
   "metadata": {},
   "outputs": [
    {
     "name": "stderr",
     "output_type": "stream",
     "text": [
      "[nltk_data] Downloading package punkt to\n",
      "[nltk_data]     C:\\Users\\victo\\AppData\\Roaming\\nltk_data...\n",
      "[nltk_data]   Package punkt is already up-to-date!\n",
      "[nltk_data] Downloading package stopwords to\n",
      "[nltk_data]     C:\\Users\\victo\\AppData\\Roaming\\nltk_data...\n",
      "[nltk_data]   Package stopwords is already up-to-date!\n",
      "[nltk_data] Downloading package wordnet to\n",
      "[nltk_data]     C:\\Users\\victo\\AppData\\Roaming\\nltk_data...\n",
      "[nltk_data]   Package wordnet is already up-to-date!\n"
     ]
    }
   ],
   "source": [
    "import pandas as pd\n",
    "import numpy as np\n",
    "from numpy.random import rand\n",
    "import re\n",
    "\n",
    "import seaborn as sns\n",
    "import matplotlib as mpl\n",
    "import matplotlib.pyplot as plt\n",
    "import pandas as pd\n",
    "import numpy as np\n",
    "from numpy.random import rand\n",
    "from ast import literal_eval\n",
    "from matplotlib import colormaps\n",
    "import squarify\n",
    "\n",
    "from wordcloud import WordCloud\n",
    "import networkx as nx\n",
    "import pickle\n",
    "import string\n",
    "from collections import Counter, defaultdict\n",
    "import operator\n",
    "import warnings\n",
    "warnings.filterwarnings(\"ignore\")\n",
    "import nltk\n",
    "from nltk.corpus import stopwords\n",
    "from nltk.tokenize import word_tokenize\n",
    "from nltk.stem import WordNetLemmatizer\n",
    "nltk.download('punkt')\n",
    "nltk.download('stopwords')\n",
    "nltk.download('wordnet')\n",
    "import gensim\n",
    "from gensim import corpora\n"
   ]
  },
  {
   "cell_type": "code",
   "execution_count": 2,
   "metadata": {},
   "outputs": [],
   "source": [
    "from sklearn.decomposition import LatentDirichletAllocation\n",
    "from sklearn.feature_extraction.text import CountVectorizer\n",
    "\n",
    "import pandas as pd\n",
    "import numpy as np\n",
    "import os\n",
    "\n",
    "import nltk\n",
    "from nltk.corpus import PlaintextCorpusReader"
   ]
  },
  {
   "cell_type": "code",
   "execution_count": 3,
   "metadata": {},
   "outputs": [],
   "source": [
    "import preprocess2\n",
    "reviews_corpus = preprocess2.load_corpus('sephora_corpus')\n",
    "reviews_docs = preprocess2.corpus2docs(reviews_corpus)\n"
   ]
  },
  {
   "cell_type": "markdown",
   "metadata": {},
   "source": [
    "## Make Bigrams"
   ]
  },
  {
   "cell_type": "code",
   "execution_count": null,
   "metadata": {},
   "outputs": [],
   "source": [
    "# Build the bigram and trigram models\n",
    "bigram = gensim.models.Phrases(reviews_docs, min_count=5, threshold=100) # higher threshold fewer phrases. \n",
    "\n",
    "# Faster way to get a sentence clubbed as a trigram/bigram\n",
    "bigram_mod = gensim.models.phrases.Phraser(bigram)"
   ]
  },
  {
   "cell_type": "code",
   "execution_count": null,
   "metadata": {},
   "outputs": [],
   "source": [
    "def make_bigrams(texts):\n",
    "    return [bigram_mod[doc] for doc in texts]"
   ]
  },
  {
   "cell_type": "code",
   "execution_count": null,
   "metadata": {},
   "outputs": [],
   "source": [
    "data_words_bigrams = make_bigrams(reviews_docs)"
   ]
  },
  {
   "cell_type": "code",
   "execution_count": null,
   "metadata": {},
   "outputs": [],
   "source": [
    "reviews_docs_joined = [\" \".join(x) for x in data_words_bigrams] "
   ]
  },
  {
   "cell_type": "markdown",
   "metadata": {},
   "source": [
    "## LDA + KMeans"
   ]
  },
  {
   "cell_type": "code",
   "execution_count": 25,
   "metadata": {},
   "outputs": [],
   "source": [
    "import gensim\n",
    "import preprocess2\n",
    "from sklearn.feature_extraction.text import TfidfVectorizer\n",
    "\n",
    "# Create a Dictionary\n",
    "id2word = corpora.Dictionary(data_words_bigrams)\n",
    "\n",
    "# Create a Corpus\n",
    "texts = data_words_bigrams\n",
    "\n",
    "# Term Document Frequency\n",
    "corpus = [id2word.doc2bow(doc) for doc in texts]\n"
   ]
  },
  {
   "cell_type": "code",
   "execution_count": 27,
   "metadata": {},
   "outputs": [],
   "source": [
    "# Get Document-Word matrix\n",
    "vectorizer = TfidfVectorizer()\n",
    "data = vectorizer.fit_transform(reviews_docs_joined)\n",
    "\n",
    "# Extract features\n",
    "features = vectorizer.get_feature_names_out()"
   ]
  },
  {
   "cell_type": "code",
   "execution_count": 28,
   "metadata": {},
   "outputs": [
    {
     "name": "stdout",
     "output_type": "stream",
     "text": [
      "['aa' 'aaa' 'aaaaah' ... 'zumba' 'zunc' 'zyleer']\n"
     ]
    }
   ],
   "source": [
    "print(features)"
   ]
  },
  {
   "cell_type": "code",
   "execution_count": 29,
   "metadata": {},
   "outputs": [],
   "source": [
    "def get_doc_topic(corpus, model):\n",
    "    doc_topic = list()\n",
    "    for doc in corpus:\n",
    "        doc_topic.append(model.__getitem__(doc, eps=0))\n",
    "        return doc_topic"
   ]
  },
  {
   "cell_type": "code",
   "execution_count": null,
   "metadata": {},
   "outputs": [],
   "source": [
    "optimal_lda_model = pickle.load(open('optimal_bigram6_lda.pkl', 'rb'))"
   ]
  },
  {
   "cell_type": "code",
   "execution_count": 31,
   "metadata": {},
   "outputs": [],
   "source": [
    "lda_data = get_doc_topic(corpus, optimal_lda_model)"
   ]
  },
  {
   "cell_type": "code",
   "execution_count": 32,
   "metadata": {},
   "outputs": [],
   "source": [
    "import numpy as np\n",
    "\n",
    "\n",
    "def gen_init_point(docTopic, docWord, a):\n",
    "\n",
    "    thershold = int((docTopic.shape[0] // docTopic.shape[1]) + a * docTopic.shape[0])\n",
    "\n",
    "    # print(thershold)\n",
    "\n",
    "    topic_mean = docTopic.mean(axis=0)\n",
    "    # print(topic_mean)\n",
    "    # print(topic_mean)\n",
    "\n",
    "    support_doc_n = []\n",
    "    support_doc_index = []\n",
    "\n",
    "    for x in range(docTopic.shape[1]):\n",
    "        topic = docTopic[:, x]\n",
    "        res_list = topic > topic_mean[x]\n",
    "        res_index = np.where(res_list == True)\n",
    "        support_doc_n.append(len(res_index[0]))\n",
    "        support_doc_index.append(res_index[0])\n",
    "\n",
    "    # print(support_doc_index)\n",
    "    # print(support_doc_n)\n",
    "    support_doc_n = np.array(support_doc_n)\n",
    "    # print(support_doc_n)\n",
    "    typical_topic = np.where(support_doc_n > thershold)[0]\n",
    "    # print(typical_topic)\n",
    "    # print(typical_topic)\n",
    "\n",
    "    k_clustering_init = []\n",
    "    for i in typical_topic:\n",
    "        # print(i)\n",
    "        # print(support_doc_index[i])\n",
    "        # print(dataset[support_doc_index[i]])\n",
    "        k_clustering_init.append(np.asarray(docWord[support_doc_index[i]].mean(axis=0)).reshape(-1))\n",
    "    return np.array(k_clustering_init)"
   ]
  },
  {
   "cell_type": "code",
   "execution_count": 44,
   "metadata": {},
   "outputs": [],
   "source": [
    "import pandas as pd\n",
    "\n",
    "def print_top_words(model, feature_names, n_top_words, path):\n",
    "    print('for LDA')\n",
    "    out = open(path, 'w')\n",
    "    # model.components_ = lsa.inverse_transform(model.components_)\n",
    "    for topic_idx, topic in enumerate(model.components_):\n",
    "        message = \"Topic #%d: \" % topic_idx\n",
    "        message += \" \".join([feature_names[i]\n",
    "                             for i in topic.argsort()[:-n_top_words - 1:-1]])\n",
    "        print(message)\n",
    "        out.write(message+'\\n')\n",
    "    out.close()\n",
    "    print()\n",
    "\n",
    "\n",
    "def print_cluster(model, feature, n, path):\n",
    "    print('for Kmeans')\n",
    "    out = open(path, 'w')\n",
    "    for topic_idx, topic in enumerate(model.cluster_centers_):\n",
    "        message = \"Topic #%d: \" % topic_idx\n",
    "        message += \" \".join([feature[i]\n",
    "                             for i in topic.argsort()[:-n - 1:-1]])\n",
    "        print(message)\n",
    "        out.write(message+'\\n')\n",
    "    out.close()\n",
    "    print()\n",
    "\n",
    "\n",
    "def output_result(corpus, result, path):\n",
    "    df = pd.DataFrame({'text': corpus, 'label': result})\n",
    "    df[['text', 'label']].to_csv(path, index=False)"
   ]
  },
  {
   "cell_type": "code",
   "execution_count": 66,
   "metadata": {},
   "outputs": [],
   "source": [
    "from sklearn.cluster import KMeans\n",
    "from sklearn.metrics import silhouette_score\n",
    "\n",
    "def pipeline(model, n_topic, data, a, corpus, feature):\n",
    "    lda = model(n_components=n_topic)\n",
    "    data_lda = lda.fit_transform(data)\n",
    "    print(f\"Number of topics: {n_topic}\")\n",
    "    print(f\"Alpha: {a}\")\n",
    "    n_init_clusters = gen_init_point(data_lda, data, a)\n",
    "    \n",
    "    # Check if n_init_clusters is empty, if yes, skip this iteration\n",
    "    if n_init_clusters.size == 0:\n",
    "        print(f\"Skipping for n_topic={n_topic} and Alpha = {a} due to empty initial clusters\")\n",
    "        return 0  # Return None to indicate skipped iteration\n",
    "\n",
    "    km = KMeans(n_clusters=len(n_init_clusters), init=n_init_clusters)\n",
    "    km.fit_transform(data)\n",
    "    \n",
    "    # Check for the number of unique clusters\n",
    "    unique_labels = np.unique(km.labels_)\n",
    "\n",
    "    if len(unique_labels) > 1:\n",
    "        sil_score = silhouette_score(data, km.labels_)\n",
    "        print(f'Silhouette score: {sil_score}')\n",
    "        print_top_words(lda, feature, 10, '_topic_word')\n",
    "        print_cluster(km, feature, 10, '_cluster_meaning_{}')\n",
    "        output_result(corpus, km.labels_, '_cluster_result_{}')\n",
    "        return sil_score  # Return silhouette score for current iteration\n",
    "    else:\n",
    "        print(\"Only one cluster found. Cannot compute silhouette score.\")\n",
    "        return 0  # Return None to indicate an iteration where silhouette score couldn't be computed\n"
   ]
  },
  {
   "cell_type": "code",
   "execution_count": 48,
   "metadata": {},
   "outputs": [
    {
     "name": "stdout",
     "output_type": "stream",
     "text": [
      "Number of topics: 2\n",
      "Skipping for n_topic=2 due to empty initial clusters\n",
      "Number of topics: 3\n",
      "Only one cluster found. Cannot compute silhouette score.\n",
      "Number of topics: 4\n",
      "Silhouette score: 0.0045099649877450255\n",
      "for LDA\n",
      "Topic #0: skin product eye using week use difference cream ive love\n",
      "Topic #1: lip balm taste razor gloss color tanner self chapped shave\n",
      "Topic #2: skin product love like feel sunscreen face smell great moisturizer\n",
      "Topic #3: skin love product feel cream great eye soft smooth feeling\n",
      "\n",
      "for Kmeans\n",
      "Topic #0: eye cream product circle dark area love around using really\n",
      "Topic #1: skin product love feel like face great use really using\n",
      "\n",
      "Number of topics: 5\n",
      "Silhouette score: 0.004050905576194552\n",
      "for LDA\n",
      "Topic #0: freeproduct sample received serum honest topbox exchange clinique review trywithtopbox\n",
      "Topic #1: skin product eye using week love use cream difference serum\n",
      "Topic #2: skin product love feel like great moisturizer face really smell\n",
      "Topic #3: product skin like cleanser makeup face smell get love use\n",
      "Topic #4: peau que produit pour gua sha jai piel est bien\n",
      "\n",
      "for Kmeans\n",
      "Topic #0: product eye love like skin use cream really smell face\n",
      "Topic #1: skin product love feel dry great moisturizer face using really\n",
      "\n",
      "Number of topics: 6\n",
      "Silhouette score: 0.004053570681438233\n",
      "for LDA\n",
      "Topic #0: product like skin smell dont didnt packaging get money really\n",
      "Topic #1: sunscreen skin love spf white makeup product cast like glow\n",
      "Topic #2: skin eye product using cream love use week serum difference\n",
      "Topic #3: skin cleanser dry makeup face love product use clean acne\n",
      "Topic #4: skin product feel love great received really like moisturizer cream\n",
      "Topic #5: lip balm mask gloss taste love smell chapped glossy color\n",
      "\n",
      "for Kmeans\n",
      "Topic #0: product eye love like skin use cream really smell face\n",
      "Topic #1: skin product love feel dry great moisturizer face using really\n",
      "\n",
      "Number of topics: 7\n",
      "Silhouette score: 0.0045099649877450255\n",
      "for LDA\n",
      "Topic #0: lip balm mask smell love like gloss taste formula good\n",
      "Topic #1: money didnt product broke nothing skin bad smell wanted made\n",
      "Topic #2: skin product eye cream feel love great received really like\n",
      "Topic #3: sunscreen love white skin cast spf like product makeup glow\n",
      "Topic #4: product skin serum use using like love ive week bottle\n",
      "Topic #5: skin product acne love dry using use ive face moisturizer\n",
      "Topic #6: cleanser skin makeup face clean product love feel like great\n",
      "\n",
      "for Kmeans\n",
      "Topic #0: eye cream product circle dark area love around using really\n",
      "Topic #1: skin product love feel like face great use really using\n",
      "\n",
      "Number of topics: 8\n",
      "Silhouette score: 0.004473194482090306\n",
      "for LDA\n",
      "Topic #0: skin love feel product great moisturizer sunscreen cream face like\n",
      "Topic #1: skin product like face smell use didnt really acne dont\n",
      "Topic #2: lip cleanser skin makeup balm love face mask clean product\n",
      "Topic #3: tan formula tanner product color self orange like old tanning\n",
      "Topic #4: skin product received using week love serum feel sample difference\n",
      "Topic #5: eye cream dark circle line product area fine wrinkle around\n",
      "Topic #6: skin serum product love use great dry acne acid help\n",
      "Topic #7: repairing piel que peptide ceramide producto grape santorini zenovia muy\n",
      "\n",
      "for Kmeans\n",
      "Topic #0: skin product feel love dry great moisturizer using face really\n",
      "Topic #1: product skin love like use face smell lip really good\n",
      "Topic #2: eye cream product circle dark area love around using really\n",
      "\n",
      "Number of topics: 9\n",
      "Silhouette score: 0.003515190575032793\n",
      "for LDA\n",
      "Topic #0: renewal triple algae peau produit jai pour balm est algenist\n",
      "Topic #1: skin love product feel face great moisturizer dry use cream\n",
      "Topic #2: product skin received sample like influenster really feel review cream\n",
      "Topic #3: product like packaging skin smell get bottle face use love\n",
      "Topic #4: acne skin product breakout pimple prone sensitive face break using\n",
      "Topic #5: gua sha roller humidifier ehhh gummies jade ice moldy stone\n",
      "Topic #6: lip sunscreen makeup love white balm like skin spf cast\n",
      "Topic #7: poreless piel que producto trendmood teeth santorini grape muy este\n",
      "Topic #8: eye skin product using week dark cream difference ive use\n",
      "\n",
      "for Kmeans\n",
      "Topic #0: skin love feel product dry great moisturizer using face really\n",
      "Topic #1: received product influenster skin free review sample honest exchange feel\n",
      "Topic #2: product skin love like face use smell lip really good\n",
      "Topic #3: eye cream product circle dark area love around using really\n",
      "\n",
      "Number of topics: 10\n",
      "Silhouette score: 0.004053534304544873\n",
      "for LDA\n",
      "Topic #0: sunscreen like product skin white smell love cast spf doesnt\n",
      "Topic #1: lip cleanser makeup love balm skin product mask face clean\n",
      "Topic #2: skin product feel love moisturizer great cream like really face\n",
      "Topic #3: grail holy bar trendmood brush soap grass tiger kate foreo\n",
      "Topic #4: acne skin product breakout pore pimple helped dry prone using\n",
      "Topic #5: skin love product using eye look cream amazing feel week\n",
      "Topic #6: piel que producto bronze muy este para los deja con\n",
      "Topic #7: skin product using serum use ive week like love face\n",
      "Topic #8: peau produit jai pour est teeth pa bien une que\n",
      "Topic #9: eye cream product received sample influenster honest circle review free\n",
      "\n",
      "for Kmeans\n",
      "Topic #0: skin product love feel dry great moisturizer face using really\n",
      "Topic #1: product eye love like skin use cream really smell face\n",
      "\n"
     ]
    }
   ],
   "source": [
    "range_topics = list(range(2, 11))\n",
    "sil_scores = []\n",
    "\n",
    "for n_topic in range_topics:\n",
    "    \n",
    "    score = pipeline(LatentDirichletAllocation, n_topic, data, 0.1, reviews_docs_joined, features)\n",
    "    if score:  # Check if score is not None\n",
    "        sil_scores.append(score)\n",
    "    else:\n",
    "        sil_scores.append(float('-inf'))  # Assign a low score for skipped iterations\n",
    "\n"
   ]
  },
  {
   "cell_type": "code",
   "execution_count": 67,
   "metadata": {},
   "outputs": [
    {
     "name": "stdout",
     "output_type": "stream",
     "text": [
      "Number of topics: 2\n",
      "Alpha: 0.01\n",
      "Only one cluster found. Cannot compute silhouette score.\n",
      "Number of topics: 2\n",
      "Alpha: 0.31\n",
      "Skipping for n_topic=2 and Alpha = 0.31 due to empty initial clusters\n",
      "Number of topics: 2\n",
      "Alpha: 0.61\n",
      "Skipping for n_topic=2 and Alpha = 0.61 due to empty initial clusters\n",
      "Number of topics: 2\n",
      "Alpha: 0.9099999999999999\n",
      "Skipping for n_topic=2 and Alpha = 0.9099999999999999 due to empty initial clusters\n",
      "Number of topics: 3\n",
      "Alpha: 0.01\n",
      "Silhouette score: 0.0038876926534732468\n",
      "for LDA\n",
      "Topic #0: received product sample review free influenster honest skin didnt exchange\n",
      "Topic #1: skin product love cream eye feel using great use serum\n",
      "Topic #2: skin product like love sunscreen lip face makeup cleanser smell\n",
      "\n",
      "for Kmeans\n",
      "Topic #0: skin product feel cream love eye great using really dry\n",
      "Topic #1: product skin love like face use smell lip great really\n",
      "\n"
     ]
    },
    {
     "ename": "KeyboardInterrupt",
     "evalue": "",
     "output_type": "error",
     "traceback": [
      "\u001b[1;31m---------------------------------------------------------------------------\u001b[0m",
      "\u001b[1;31mKeyboardInterrupt\u001b[0m                         Traceback (most recent call last)",
      "\u001b[1;32mc:\\Users\\victo\\Github\\text_analytics\\text_project\\text_analytics\\Project_Code_ISSS609_LDA_Kmeans.ipynb Cell 20\u001b[0m line \u001b[0;36m1\n\u001b[0;32m     <a href='vscode-notebook-cell:/c%3A/Users/victo/Github/text_analytics/text_project/text_analytics/Project_Code_ISSS609_LDA_Kmeans.ipynb#X25sZmlsZQ%3D%3D?line=10'>11</a>\u001b[0m \u001b[39mfor\u001b[39;00m n_topic \u001b[39min\u001b[39;00m range_topics:\n\u001b[0;32m     <a href='vscode-notebook-cell:/c%3A/Users/victo/Github/text_analytics/text_project/text_analytics/Project_Code_ISSS609_LDA_Kmeans.ipynb#X25sZmlsZQ%3D%3D?line=11'>12</a>\u001b[0m     \u001b[39mfor\u001b[39;00m a \u001b[39min\u001b[39;00m a_values:\n\u001b[1;32m---> <a href='vscode-notebook-cell:/c%3A/Users/victo/Github/text_analytics/text_project/text_analytics/Project_Code_ISSS609_LDA_Kmeans.ipynb#X25sZmlsZQ%3D%3D?line=12'>13</a>\u001b[0m         sil_score \u001b[39m=\u001b[39m pipeline(LatentDirichletAllocation, n_topic, data, a, reviews_docs_joined, features)\n\u001b[0;32m     <a href='vscode-notebook-cell:/c%3A/Users/victo/Github/text_analytics/text_project/text_analytics/Project_Code_ISSS609_LDA_Kmeans.ipynb#X25sZmlsZQ%3D%3D?line=14'>15</a>\u001b[0m         model_results[\u001b[39m'\u001b[39m\u001b[39mTopics\u001b[39m\u001b[39m'\u001b[39m]\u001b[39m.\u001b[39mappend(n_topic)\n\u001b[0;32m     <a href='vscode-notebook-cell:/c%3A/Users/victo/Github/text_analytics/text_project/text_analytics/Project_Code_ISSS609_LDA_Kmeans.ipynb#X25sZmlsZQ%3D%3D?line=15'>16</a>\u001b[0m         model_results[\u001b[39m'\u001b[39m\u001b[39mAlpha\u001b[39m\u001b[39m'\u001b[39m]\u001b[39m.\u001b[39mappend(a)\n",
      "\u001b[1;32mc:\\Users\\victo\\Github\\text_analytics\\text_project\\text_analytics\\Project_Code_ISSS609_LDA_Kmeans.ipynb Cell 20\u001b[0m line \u001b[0;36m6\n\u001b[0;32m      <a href='vscode-notebook-cell:/c%3A/Users/victo/Github/text_analytics/text_project/text_analytics/Project_Code_ISSS609_LDA_Kmeans.ipynb#X25sZmlsZQ%3D%3D?line=3'>4</a>\u001b[0m \u001b[39mdef\u001b[39;00m \u001b[39mpipeline\u001b[39m(model, n_topic, data, a, corpus, feature):\n\u001b[0;32m      <a href='vscode-notebook-cell:/c%3A/Users/victo/Github/text_analytics/text_project/text_analytics/Project_Code_ISSS609_LDA_Kmeans.ipynb#X25sZmlsZQ%3D%3D?line=4'>5</a>\u001b[0m     lda \u001b[39m=\u001b[39m model(n_components\u001b[39m=\u001b[39mn_topic)\n\u001b[1;32m----> <a href='vscode-notebook-cell:/c%3A/Users/victo/Github/text_analytics/text_project/text_analytics/Project_Code_ISSS609_LDA_Kmeans.ipynb#X25sZmlsZQ%3D%3D?line=5'>6</a>\u001b[0m     data_lda \u001b[39m=\u001b[39m lda\u001b[39m.\u001b[39;49mfit_transform(data)\n\u001b[0;32m      <a href='vscode-notebook-cell:/c%3A/Users/victo/Github/text_analytics/text_project/text_analytics/Project_Code_ISSS609_LDA_Kmeans.ipynb#X25sZmlsZQ%3D%3D?line=6'>7</a>\u001b[0m     \u001b[39mprint\u001b[39m(\u001b[39mf\u001b[39m\u001b[39m\"\u001b[39m\u001b[39mNumber of topics: \u001b[39m\u001b[39m{\u001b[39;00mn_topic\u001b[39m}\u001b[39;00m\u001b[39m\"\u001b[39m)\n\u001b[0;32m      <a href='vscode-notebook-cell:/c%3A/Users/victo/Github/text_analytics/text_project/text_analytics/Project_Code_ISSS609_LDA_Kmeans.ipynb#X25sZmlsZQ%3D%3D?line=7'>8</a>\u001b[0m     \u001b[39mprint\u001b[39m(\u001b[39mf\u001b[39m\u001b[39m\"\u001b[39m\u001b[39mAlpha: \u001b[39m\u001b[39m{\u001b[39;00ma\u001b[39m}\u001b[39;00m\u001b[39m\"\u001b[39m)\n",
      "File \u001b[1;32mc:\\Users\\victo\\miniconda3\\envs\\smunlp\\lib\\site-packages\\sklearn\\utils\\_set_output.py:157\u001b[0m, in \u001b[0;36m_wrap_method_output.<locals>.wrapped\u001b[1;34m(self, X, *args, **kwargs)\u001b[0m\n\u001b[0;32m    155\u001b[0m \u001b[39m@wraps\u001b[39m(f)\n\u001b[0;32m    156\u001b[0m \u001b[39mdef\u001b[39;00m \u001b[39mwrapped\u001b[39m(\u001b[39mself\u001b[39m, X, \u001b[39m*\u001b[39margs, \u001b[39m*\u001b[39m\u001b[39m*\u001b[39mkwargs):\n\u001b[1;32m--> 157\u001b[0m     data_to_wrap \u001b[39m=\u001b[39m f(\u001b[39mself\u001b[39m, X, \u001b[39m*\u001b[39margs, \u001b[39m*\u001b[39m\u001b[39m*\u001b[39mkwargs)\n\u001b[0;32m    158\u001b[0m     \u001b[39mif\u001b[39;00m \u001b[39misinstance\u001b[39m(data_to_wrap, \u001b[39mtuple\u001b[39m):\n\u001b[0;32m    159\u001b[0m         \u001b[39m# only wrap the first output for cross decomposition\u001b[39;00m\n\u001b[0;32m    160\u001b[0m         return_tuple \u001b[39m=\u001b[39m (\n\u001b[0;32m    161\u001b[0m             _wrap_data_with_container(method, data_to_wrap[\u001b[39m0\u001b[39m], X, \u001b[39mself\u001b[39m),\n\u001b[0;32m    162\u001b[0m             \u001b[39m*\u001b[39mdata_to_wrap[\u001b[39m1\u001b[39m:],\n\u001b[0;32m    163\u001b[0m         )\n",
      "File \u001b[1;32mc:\\Users\\victo\\miniconda3\\envs\\smunlp\\lib\\site-packages\\sklearn\\base.py:916\u001b[0m, in \u001b[0;36mTransformerMixin.fit_transform\u001b[1;34m(self, X, y, **fit_params)\u001b[0m\n\u001b[0;32m    912\u001b[0m \u001b[39m# non-optimized default implementation; override when a better\u001b[39;00m\n\u001b[0;32m    913\u001b[0m \u001b[39m# method is possible for a given clustering algorithm\u001b[39;00m\n\u001b[0;32m    914\u001b[0m \u001b[39mif\u001b[39;00m y \u001b[39mis\u001b[39;00m \u001b[39mNone\u001b[39;00m:\n\u001b[0;32m    915\u001b[0m     \u001b[39m# fit method of arity 1 (unsupervised transformation)\u001b[39;00m\n\u001b[1;32m--> 916\u001b[0m     \u001b[39mreturn\u001b[39;00m \u001b[39mself\u001b[39m\u001b[39m.\u001b[39mfit(X, \u001b[39m*\u001b[39m\u001b[39m*\u001b[39mfit_params)\u001b[39m.\u001b[39mtransform(X)\n\u001b[0;32m    917\u001b[0m \u001b[39melse\u001b[39;00m:\n\u001b[0;32m    918\u001b[0m     \u001b[39m# fit method of arity 2 (supervised transformation)\u001b[39;00m\n\u001b[0;32m    919\u001b[0m     \u001b[39mreturn\u001b[39;00m \u001b[39mself\u001b[39m\u001b[39m.\u001b[39mfit(X, y, \u001b[39m*\u001b[39m\u001b[39m*\u001b[39mfit_params)\u001b[39m.\u001b[39mtransform(X)\n",
      "File \u001b[1;32mc:\\Users\\victo\\miniconda3\\envs\\smunlp\\lib\\site-packages\\sklearn\\base.py:1152\u001b[0m, in \u001b[0;36m_fit_context.<locals>.decorator.<locals>.wrapper\u001b[1;34m(estimator, *args, **kwargs)\u001b[0m\n\u001b[0;32m   1145\u001b[0m     estimator\u001b[39m.\u001b[39m_validate_params()\n\u001b[0;32m   1147\u001b[0m \u001b[39mwith\u001b[39;00m config_context(\n\u001b[0;32m   1148\u001b[0m     skip_parameter_validation\u001b[39m=\u001b[39m(\n\u001b[0;32m   1149\u001b[0m         prefer_skip_nested_validation \u001b[39mor\u001b[39;00m global_skip_validation\n\u001b[0;32m   1150\u001b[0m     )\n\u001b[0;32m   1151\u001b[0m ):\n\u001b[1;32m-> 1152\u001b[0m     \u001b[39mreturn\u001b[39;00m fit_method(estimator, \u001b[39m*\u001b[39margs, \u001b[39m*\u001b[39m\u001b[39m*\u001b[39mkwargs)\n",
      "File \u001b[1;32mc:\\Users\\victo\\miniconda3\\envs\\smunlp\\lib\\site-packages\\sklearn\\decomposition\\_lda.py:673\u001b[0m, in \u001b[0;36mLatentDirichletAllocation.fit\u001b[1;34m(self, X, y)\u001b[0m\n\u001b[0;32m    665\u001b[0m         \u001b[39mself\u001b[39m\u001b[39m.\u001b[39m_em_step(\n\u001b[0;32m    666\u001b[0m             X[idx_slice, :],\n\u001b[0;32m    667\u001b[0m             total_samples\u001b[39m=\u001b[39mn_samples,\n\u001b[0;32m    668\u001b[0m             batch_update\u001b[39m=\u001b[39m\u001b[39mFalse\u001b[39;00m,\n\u001b[0;32m    669\u001b[0m             parallel\u001b[39m=\u001b[39mparallel,\n\u001b[0;32m    670\u001b[0m         )\n\u001b[0;32m    671\u001b[0m \u001b[39melse\u001b[39;00m:\n\u001b[0;32m    672\u001b[0m     \u001b[39m# batch update\u001b[39;00m\n\u001b[1;32m--> 673\u001b[0m     \u001b[39mself\u001b[39m\u001b[39m.\u001b[39m_em_step(\n\u001b[0;32m    674\u001b[0m         X, total_samples\u001b[39m=\u001b[39mn_samples, batch_update\u001b[39m=\u001b[39m\u001b[39mTrue\u001b[39;00m, parallel\u001b[39m=\u001b[39mparallel\n\u001b[0;32m    675\u001b[0m     )\n\u001b[0;32m    677\u001b[0m \u001b[39m# check perplexity\u001b[39;00m\n\u001b[0;32m    678\u001b[0m \u001b[39mif\u001b[39;00m evaluate_every \u001b[39m>\u001b[39m \u001b[39m0\u001b[39m \u001b[39mand\u001b[39;00m (i \u001b[39m+\u001b[39m \u001b[39m1\u001b[39m) \u001b[39m%\u001b[39m evaluate_every \u001b[39m==\u001b[39m \u001b[39m0\u001b[39m:\n",
      "File \u001b[1;32mc:\\Users\\victo\\miniconda3\\envs\\smunlp\\lib\\site-packages\\sklearn\\decomposition\\_lda.py:524\u001b[0m, in \u001b[0;36mLatentDirichletAllocation._em_step\u001b[1;34m(self, X, total_samples, batch_update, parallel)\u001b[0m\n\u001b[0;32m    497\u001b[0m \u001b[39m\u001b[39m\u001b[39m\"\"\"EM update for 1 iteration.\u001b[39;00m\n\u001b[0;32m    498\u001b[0m \n\u001b[0;32m    499\u001b[0m \u001b[39mupdate `_component` by batch VB or online VB.\u001b[39;00m\n\u001b[1;32m   (...)\u001b[0m\n\u001b[0;32m    520\u001b[0m \u001b[39m    Unnormalized document topic distribution.\u001b[39;00m\n\u001b[0;32m    521\u001b[0m \u001b[39m\"\"\"\u001b[39;00m\n\u001b[0;32m    523\u001b[0m \u001b[39m# E-step\u001b[39;00m\n\u001b[1;32m--> 524\u001b[0m _, suff_stats \u001b[39m=\u001b[39m \u001b[39mself\u001b[39;49m\u001b[39m.\u001b[39;49m_e_step(\n\u001b[0;32m    525\u001b[0m     X, cal_sstats\u001b[39m=\u001b[39;49m\u001b[39mTrue\u001b[39;49;00m, random_init\u001b[39m=\u001b[39;49m\u001b[39mTrue\u001b[39;49;00m, parallel\u001b[39m=\u001b[39;49mparallel\n\u001b[0;32m    526\u001b[0m )\n\u001b[0;32m    528\u001b[0m \u001b[39m# M-step\u001b[39;00m\n\u001b[0;32m    529\u001b[0m \u001b[39mif\u001b[39;00m batch_update:\n",
      "File \u001b[1;32mc:\\Users\\victo\\miniconda3\\envs\\smunlp\\lib\\site-packages\\sklearn\\decomposition\\_lda.py:467\u001b[0m, in \u001b[0;36mLatentDirichletAllocation._e_step\u001b[1;34m(self, X, cal_sstats, random_init, parallel)\u001b[0m\n\u001b[0;32m    465\u001b[0m \u001b[39mif\u001b[39;00m parallel \u001b[39mis\u001b[39;00m \u001b[39mNone\u001b[39;00m:\n\u001b[0;32m    466\u001b[0m     parallel \u001b[39m=\u001b[39m Parallel(n_jobs\u001b[39m=\u001b[39mn_jobs, verbose\u001b[39m=\u001b[39m\u001b[39mmax\u001b[39m(\u001b[39m0\u001b[39m, \u001b[39mself\u001b[39m\u001b[39m.\u001b[39mverbose \u001b[39m-\u001b[39m \u001b[39m1\u001b[39m))\n\u001b[1;32m--> 467\u001b[0m results \u001b[39m=\u001b[39m parallel(\n\u001b[0;32m    468\u001b[0m     delayed(_update_doc_distribution)(\n\u001b[0;32m    469\u001b[0m         X[idx_slice, :],\n\u001b[0;32m    470\u001b[0m         \u001b[39mself\u001b[39;49m\u001b[39m.\u001b[39;49mexp_dirichlet_component_,\n\u001b[0;32m    471\u001b[0m         \u001b[39mself\u001b[39;49m\u001b[39m.\u001b[39;49mdoc_topic_prior_,\n\u001b[0;32m    472\u001b[0m         \u001b[39mself\u001b[39;49m\u001b[39m.\u001b[39;49mmax_doc_update_iter,\n\u001b[0;32m    473\u001b[0m         \u001b[39mself\u001b[39;49m\u001b[39m.\u001b[39;49mmean_change_tol,\n\u001b[0;32m    474\u001b[0m         cal_sstats,\n\u001b[0;32m    475\u001b[0m         random_state,\n\u001b[0;32m    476\u001b[0m     )\n\u001b[0;32m    477\u001b[0m     \u001b[39mfor\u001b[39;49;00m idx_slice \u001b[39min\u001b[39;49;00m gen_even_slices(X\u001b[39m.\u001b[39;49mshape[\u001b[39m0\u001b[39;49m], n_jobs)\n\u001b[0;32m    478\u001b[0m )\n\u001b[0;32m    480\u001b[0m \u001b[39m# merge result\u001b[39;00m\n\u001b[0;32m    481\u001b[0m doc_topics, sstats_list \u001b[39m=\u001b[39m \u001b[39mzip\u001b[39m(\u001b[39m*\u001b[39mresults)\n",
      "File \u001b[1;32mc:\\Users\\victo\\miniconda3\\envs\\smunlp\\lib\\site-packages\\sklearn\\utils\\parallel.py:65\u001b[0m, in \u001b[0;36mParallel.__call__\u001b[1;34m(self, iterable)\u001b[0m\n\u001b[0;32m     60\u001b[0m config \u001b[39m=\u001b[39m get_config()\n\u001b[0;32m     61\u001b[0m iterable_with_config \u001b[39m=\u001b[39m (\n\u001b[0;32m     62\u001b[0m     (_with_config(delayed_func, config), args, kwargs)\n\u001b[0;32m     63\u001b[0m     \u001b[39mfor\u001b[39;00m delayed_func, args, kwargs \u001b[39min\u001b[39;00m iterable\n\u001b[0;32m     64\u001b[0m )\n\u001b[1;32m---> 65\u001b[0m \u001b[39mreturn\u001b[39;00m \u001b[39msuper\u001b[39;49m()\u001b[39m.\u001b[39;49m\u001b[39m__call__\u001b[39;49m(iterable_with_config)\n",
      "File \u001b[1;32mc:\\Users\\victo\\miniconda3\\envs\\smunlp\\lib\\site-packages\\joblib\\parallel.py:1863\u001b[0m, in \u001b[0;36mParallel.__call__\u001b[1;34m(self, iterable)\u001b[0m\n\u001b[0;32m   1861\u001b[0m     output \u001b[39m=\u001b[39m \u001b[39mself\u001b[39m\u001b[39m.\u001b[39m_get_sequential_output(iterable)\n\u001b[0;32m   1862\u001b[0m     \u001b[39mnext\u001b[39m(output)\n\u001b[1;32m-> 1863\u001b[0m     \u001b[39mreturn\u001b[39;00m output \u001b[39mif\u001b[39;00m \u001b[39mself\u001b[39m\u001b[39m.\u001b[39mreturn_generator \u001b[39melse\u001b[39;00m \u001b[39mlist\u001b[39;49m(output)\n\u001b[0;32m   1865\u001b[0m \u001b[39m# Let's create an ID that uniquely identifies the current call. If the\u001b[39;00m\n\u001b[0;32m   1866\u001b[0m \u001b[39m# call is interrupted early and that the same instance is immediately\u001b[39;00m\n\u001b[0;32m   1867\u001b[0m \u001b[39m# re-used, this id will be used to prevent workers that were\u001b[39;00m\n\u001b[0;32m   1868\u001b[0m \u001b[39m# concurrently finalizing a task from the previous call to run the\u001b[39;00m\n\u001b[0;32m   1869\u001b[0m \u001b[39m# callback.\u001b[39;00m\n\u001b[0;32m   1870\u001b[0m \u001b[39mwith\u001b[39;00m \u001b[39mself\u001b[39m\u001b[39m.\u001b[39m_lock:\n",
      "File \u001b[1;32mc:\\Users\\victo\\miniconda3\\envs\\smunlp\\lib\\site-packages\\joblib\\parallel.py:1792\u001b[0m, in \u001b[0;36mParallel._get_sequential_output\u001b[1;34m(self, iterable)\u001b[0m\n\u001b[0;32m   1790\u001b[0m \u001b[39mself\u001b[39m\u001b[39m.\u001b[39mn_dispatched_batches \u001b[39m+\u001b[39m\u001b[39m=\u001b[39m \u001b[39m1\u001b[39m\n\u001b[0;32m   1791\u001b[0m \u001b[39mself\u001b[39m\u001b[39m.\u001b[39mn_dispatched_tasks \u001b[39m+\u001b[39m\u001b[39m=\u001b[39m \u001b[39m1\u001b[39m\n\u001b[1;32m-> 1792\u001b[0m res \u001b[39m=\u001b[39m func(\u001b[39m*\u001b[39margs, \u001b[39m*\u001b[39m\u001b[39m*\u001b[39mkwargs)\n\u001b[0;32m   1793\u001b[0m \u001b[39mself\u001b[39m\u001b[39m.\u001b[39mn_completed_tasks \u001b[39m+\u001b[39m\u001b[39m=\u001b[39m \u001b[39m1\u001b[39m\n\u001b[0;32m   1794\u001b[0m \u001b[39mself\u001b[39m\u001b[39m.\u001b[39mprint_progress()\n",
      "File \u001b[1;32mc:\\Users\\victo\\miniconda3\\envs\\smunlp\\lib\\site-packages\\sklearn\\utils\\parallel.py:127\u001b[0m, in \u001b[0;36m_FuncWrapper.__call__\u001b[1;34m(self, *args, **kwargs)\u001b[0m\n\u001b[0;32m    125\u001b[0m     config \u001b[39m=\u001b[39m {}\n\u001b[0;32m    126\u001b[0m \u001b[39mwith\u001b[39;00m config_context(\u001b[39m*\u001b[39m\u001b[39m*\u001b[39mconfig):\n\u001b[1;32m--> 127\u001b[0m     \u001b[39mreturn\u001b[39;00m \u001b[39mself\u001b[39m\u001b[39m.\u001b[39mfunction(\u001b[39m*\u001b[39margs, \u001b[39m*\u001b[39m\u001b[39m*\u001b[39mkwargs)\n",
      "File \u001b[1;32mc:\\Users\\victo\\miniconda3\\envs\\smunlp\\lib\\site-packages\\sklearn\\decomposition\\_lda.py:139\u001b[0m, in \u001b[0;36m_update_doc_distribution\u001b[1;34m(X, exp_topic_word_distr, doc_topic_prior, max_doc_update_iter, mean_change_tol, cal_sstats, random_state)\u001b[0m\n\u001b[0;32m    136\u001b[0m exp_topic_word_d \u001b[39m=\u001b[39m exp_topic_word_distr[:, ids]\n\u001b[0;32m    138\u001b[0m \u001b[39m# Iterate between `doc_topic_d` and `norm_phi` until convergence\u001b[39;00m\n\u001b[1;32m--> 139\u001b[0m \u001b[39mfor\u001b[39;00m _ \u001b[39min\u001b[39;00m \u001b[39mrange\u001b[39;49m(\u001b[39m0\u001b[39;49m, max_doc_update_iter):\n\u001b[0;32m    140\u001b[0m     last_d \u001b[39m=\u001b[39m doc_topic_d\n\u001b[0;32m    142\u001b[0m     \u001b[39m# The optimal phi_{dwk} is proportional to\u001b[39;00m\n\u001b[0;32m    143\u001b[0m     \u001b[39m# exp(E[log(theta_{dk})]) * exp(E[log(beta_{dw})]).\u001b[39;00m\n",
      "\u001b[1;31mKeyboardInterrupt\u001b[0m: "
     ]
    }
   ],
   "source": [
    "model_results = {'Topics': [],\n",
    "                 'Alpha': [],\n",
    "                 'Silhouette_Score': []\n",
    "                }\n",
    "\n",
    "range_topics = list(range(2, 4))\n",
    "\n",
    "# For KMeans initialization in your pipeline\n",
    "a_values = list(np.arange(0.01, 1, 0.3))\n",
    "\n",
    "for n_topic in range_topics:\n",
    "    for a in a_values:\n",
    "        sil_score = pipeline(LatentDirichletAllocation, n_topic, data, a, reviews_docs_joined, features)\n",
    "        \n",
    "        model_results['Topics'].append(n_topic)\n",
    "        model_results['Alpha'].append(a)\n",
    "        model_results['Silhouette_Score'].append(sil_score)"
   ]
  },
  {
   "cell_type": "code",
   "execution_count": 68,
   "metadata": {},
   "outputs": [
    {
     "name": "stdout",
     "output_type": "stream",
     "text": [
      "[0, 0, 0, 0, 0.0038876926534732468]\n"
     ]
    }
   ],
   "source": [
    "print (model_results['Silhouette_Score'])"
   ]
  },
  {
   "cell_type": "code",
   "execution_count": 50,
   "metadata": {},
   "outputs": [
    {
     "data": {
      "image/png": "[encoded data removed]",
      "text/plain": [
       "<Figure size 1000x600 with 1 Axes>"
      ]
     },
     "metadata": {},
     "output_type": "display_data"
    }
   ],
   "source": [
    "import matplotlib.pyplot as plt\n",
    "\n",
    "# Extract the data for plotting\n",
    "topics = model_results['Topics']\n",
    "alpha_values = model_results['Alpha']\n",
    "silhouette_values = model_results['Silhouette_Score']\n",
    "\n",
    "# Filter the data for alpha = 0.01 \n",
    "filtered_indices = [(alpha == 0.01) for alpha in zip(alpha_values)]\n",
    "\n",
    "filtered_topics = [topics[i] for i, is_filtered in enumerate(filtered_indices) if is_filtered]\n",
    "filtered_silhouette_values = [silhouette_values[i] for i, is_filtered in enumerate(filtered_indices) if is_filtered]\n",
    "\n",
    "# Create a figure and axis for the plot\n",
    "fig, ax = plt.subplots()\n",
    "\n",
    "# Plot coherence scores for the filtered data\n",
    "ax.plot(filtered_topics, filtered_silhouette_values, label='Alpha=0.01')\n",
    "\n",
    "# Set labels and title\n",
    "ax.set_xlabel('Number of Topics')\n",
    "ax.set_ylabel('Silhouette Score')\n",
    "ax.set_title('Silhouette Score vs. Number of Topics')\n",
    "\n",
    "# Display a legend\n",
    "ax.legend()\n",
    "\n",
    "# Show the plot\n",
    "plt.show()\n"
   ]
  }
 ],
 "metadata": {
  "kernelspec": {
   "display_name": "smunlp",
   "language": "python",
   "name": "python3"
  },
  "language_info": {
   "codemirror_mode": {
    "name": "ipython",
    "version": 3
   },
   "file_extension": ".py",
   "mimetype": "text/x-python",
   "name": "python",
   "nbconvert_exporter": "python",
   "pygments_lexer": "ipython3",
   "version": "3.10.0"
  }
 },
 "nbformat": 4,
 "nbformat_minor": 2
}
